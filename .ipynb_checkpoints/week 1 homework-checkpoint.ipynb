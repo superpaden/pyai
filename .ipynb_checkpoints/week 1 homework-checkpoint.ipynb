{
 "cells": [
  {
   "cell_type": "code",
   "execution_count": 1,
   "metadata": {},
   "outputs": [
    {
     "name": "stdout",
     "output_type": "stream",
     "text": [
      "歡迎使用晚餐小幫手\n",
      "請輸入你想吃的晚餐選項\n",
      "輸入完後請輸入0\n",
      ":法式鵝肝\n",
      ":松露\n",
      ":0\n",
      "你今天吃的是 松露\n",
      "按下enter 結束程式\n"
     ]
    },
    {
     "data": {
      "text/plain": [
       "''"
      ]
     },
     "execution_count": 1,
     "metadata": {},
     "output_type": "execute_result"
    }
   ],
   "source": [
    "import random\n",
    "print(\"歡迎使用晚餐小幫手\")\n",
    "print(\"請輸入你想吃的晚餐選項\")\n",
    "print(\"輸入完後請輸入0\")\n",
    "L = []\n",
    "while  True:\n",
    "    a = input(\":\" )\n",
    "    if a == \"0\":\n",
    "        break\n",
    "    else:\n",
    "        L.append(a)\n",
    "random.shuffle(L)\n",
    "print(f'你今天吃的是 {L.pop(0)}' )\n",
    "input(\"按下enter 結束程式\")"
   ]
  },
  {
   "cell_type": "code",
   "execution_count": null,
   "metadata": {},
   "outputs": [],
   "source": []
  }
 ],
 "metadata": {
  "kernelspec": {
   "display_name": "Python 3",
   "language": "python",
   "name": "python3"
  },
  "language_info": {
   "codemirror_mode": {
    "name": "ipython",
    "version": 3
   },
   "file_extension": ".py",
   "mimetype": "text/x-python",
   "name": "python",
   "nbconvert_exporter": "python",
   "pygments_lexer": "ipython3",
   "version": "3.7.3"
  }
 },
 "nbformat": 4,
 "nbformat_minor": 2
}
